{
 "cells": [
  {
   "cell_type": "markdown",
   "metadata": {
    "id": "5793KeXDLQHo"
   },
   "source": [
    "# Sentiment Analysis with Deep Learning using BERT"
   ]
  },
  {
   "attachments": {
    "722b2819-65d4-4915-88b8-aecc10263001.png": {
     "image/png": "[encoded data removed]"
    }
   },
   "cell_type": "markdown",
   "metadata": {},
   "source": [
    "![download (3).png](attachment:722b2819-65d4-4915-88b8-aecc10263001.png)"
   ]
  },
  {
   "cell_type": "markdown",
   "metadata": {},
   "source": [
    "Bidirectional Representation for Transformers, or BERT, is a concept that was put up by Google AI language researchers in 2018. Although its primary goal was to enhance the comprehension of the meaning of Google Search queries, BERT has since emerged as one of the most significant and complete architectures for a variety of natural language tasks, producing cutting-edge results on tasks like classifying sentence pairs and question-answer sets, among others. One of BERT's key characteristics is its flexibility, which enables it to execute many NLP jobs with cutting-edge accuracy (similar to the transfer learning used in Computer vision)."
   ]
  },
  {
   "cell_type": "markdown",
   "metadata": {},
   "source": [
    "In this notebook, we will be using the Pytorch BERT model of deep learning to perform Multi-class sentiment classification of tweets.\n",
    "\n",
    "The dataset being used is available on https://www.kaggle.com/datasets/ashkhagan/smile-twitter-emotion-dataset."
   ]
  },
  {
   "cell_type": "markdown",
   "metadata": {
    "id": "KkeOSBcOLQH8"
   },
   "source": [
    "## Exploratory Data Analysis and Preprocessing"
   ]
  },
  {
   "cell_type": "code",
   "execution_count": 1,
   "metadata": {
    "execution": {
     "iopub.execute_input": "2024-05-05T10:51:29.343590Z",
     "iopub.status.busy": "2024-05-05T10:51:29.341023Z",
     "iopub.status.idle": "2024-05-05T10:51:31.409335Z",
     "shell.execute_reply": "2024-05-05T10:51:31.410024Z",
     "shell.execute_reply.started": "2024-05-05T10:08:48.511455Z"
    },
    "id": "-KPmp_zlLQIA"
   },
   "outputs": [],
   "source": [
    "import torch\n",
    "import pandas as pd\n",
    "from tqdm.notebook import tqdm"
   ]
  },
  {
   "cell_type": "code",
   "execution_count": 2,
   "metadata": {
    "execution": {
     "iopub.execute_input": "2024-05-05T10:51:31.417428Z",
     "iopub.status.busy": "2024-05-05T10:51:31.416509Z",
     "iopub.status.idle": "2024-05-05T10:51:31.731600Z",
     "shell.execute_reply": "2024-05-05T10:51:31.732362Z",
     "shell.execute_reply.started": "2024-05-05T10:15:20.828729Z"
    },
    "id": "KCmfBCOVLQIP"
   },
   "outputs": [],
   "source": [
    "df = pd.read_csv('Corona_NLP_train.csv', encoding='latin-1')"
   ]
  },
  {
   "cell_type": "code",
   "execution_count": 3,
   "metadata": {
    "execution": {
     "iopub.execute_input": "2024-05-05T10:51:31.748238Z",
     "iopub.status.busy": "2024-05-05T10:51:31.736383Z",
     "iopub.status.idle": "2024-05-05T10:51:31.799825Z",
     "shell.execute_reply": "2024-05-05T10:51:31.800885Z",
     "shell.execute_reply.started": "2024-05-05T10:15:21.340131Z"
    }
   },
   "outputs": [
    {
     "data": {
      "text/html": [
       "<div>\n",
       "<style scoped>\n",
       "    .dataframe tbody tr th:only-of-type {\n",
       "        vertical-align: middle;\n",
       "    }\n",
       "\n",
       "    .dataframe tbody tr th {\n",
       "        vertical-align: top;\n",
       "    }\n",
       "\n",
       "    .dataframe thead th {\n",
       "        text-align: right;\n",
       "    }\n",
       "</style>\n",
       "<table border=\"1\" class=\"dataframe\">\n",
       "  <thead>\n",
       "    <tr style=\"text-align: right;\">\n",
       "      <th></th>\n",
       "      <th>UserName</th>\n",
       "      <th>ScreenName</th>\n",
       "      <th>Location</th>\n",
       "      <th>TweetAt</th>\n",
       "      <th>OriginalTweet</th>\n",
       "      <th>Sentiment</th>\n",
       "    </tr>\n",
       "  </thead>\n",
       "  <tbody>\n",
       "    <tr>\n",
       "      <th>0</th>\n",
       "      <td>3799</td>\n",
       "      <td>48751</td>\n",
       "      <td>London</td>\n",
       "      <td>16-03-2020</td>\n",
       "      <td>@MeNyrbie @Phil_Gahan @Chrisitv https://t.co/i...</td>\n",
       "      <td>Neutral</td>\n",
       "    </tr>\n",
       "    <tr>\n",
       "      <th>1</th>\n",
       "      <td>3800</td>\n",
       "      <td>48752</td>\n",
       "      <td>UK</td>\n",
       "      <td>16-03-2020</td>\n",
       "      <td>advice Talk to your neighbours family to excha...</td>\n",
       "      <td>Positive</td>\n",
       "    </tr>\n",
       "    <tr>\n",
       "      <th>2</th>\n",
       "      <td>3801</td>\n",
       "      <td>48753</td>\n",
       "      <td>Vagabonds</td>\n",
       "      <td>16-03-2020</td>\n",
       "      <td>Coronavirus Australia: Woolworths to give elde...</td>\n",
       "      <td>Positive</td>\n",
       "    </tr>\n",
       "    <tr>\n",
       "      <th>3</th>\n",
       "      <td>3802</td>\n",
       "      <td>48754</td>\n",
       "      <td>NaN</td>\n",
       "      <td>16-03-2020</td>\n",
       "      <td>My food stock is not the only one which is emp...</td>\n",
       "      <td>Positive</td>\n",
       "    </tr>\n",
       "  </tbody>\n",
       "</table>\n",
       "</div>"
      ],
      "text/plain": [
       "   UserName  ScreenName   Location     TweetAt  \\\n",
       "0      3799       48751     London  16-03-2020   \n",
       "1      3800       48752         UK  16-03-2020   \n",
       "2      3801       48753  Vagabonds  16-03-2020   \n",
       "3      3802       48754        NaN  16-03-2020   \n",
       "\n",
       "                                       OriginalTweet Sentiment  \n",
       "0  @MeNyrbie @Phil_Gahan @Chrisitv https://t.co/i...   Neutral  \n",
       "1  advice Talk to your neighbours family to excha...  Positive  \n",
       "2  Coronavirus Australia: Woolworths to give elde...  Positive  \n",
       "3  My food stock is not the only one which is emp...  Positive  "
      ]
     },
     "execution_count": 1,
     "metadata": {},
     "output_type": "execute_result"
    }
   ],
   "source": [
    "df.head(4)"
   ]
  },
  {
   "cell_type": "code",
   "execution_count": 4,
   "metadata": {
    "execution": {
     "iopub.execute_input": "2024-05-05T10:51:31.812736Z",
     "iopub.status.busy": "2024-05-05T10:51:31.811819Z",
     "iopub.status.idle": "2024-05-05T10:51:31.895425Z",
     "shell.execute_reply": "2024-05-05T10:51:31.896757Z",
     "shell.execute_reply.started": "2024-05-05T10:15:21.855764Z"
    }
   },
   "outputs": [],
   "source": [
    "df.dropna(inplace=True)"
   ]
  },
  {
   "cell_type": "code",
   "execution_count": 5,
   "metadata": {
    "execution": {
     "iopub.execute_input": "2024-05-05T10:51:31.911800Z",
     "iopub.status.busy": "2024-05-05T10:51:31.910263Z",
     "iopub.status.idle": "2024-05-05T10:51:31.916270Z",
     "shell.execute_reply": "2024-05-05T10:51:31.917317Z",
     "shell.execute_reply.started": "2024-05-05T10:15:22.441258Z"
    },
    "id": "RoTwpkHRLQIZ",
    "outputId": "42be2697-3fce-41e7-9c02-6c0cdb900292"
   },
   "outputs": [],
   "source": [
    "df['category']=df['Sentiment']"
   ]
  },
  {
   "cell_type": "code",
   "execution_count": 6,
   "metadata": {
    "execution": {
     "iopub.execute_input": "2024-05-05T10:51:31.935410Z",
     "iopub.status.busy": "2024-05-05T10:51:31.933827Z",
     "iopub.status.idle": "2024-05-05T10:51:31.938978Z",
     "shell.execute_reply": "2024-05-05T10:51:31.939874Z",
     "shell.execute_reply.started": "2024-05-05T10:15:23.104092Z"
    },
    "id": "NBvKl_Z4LQIq",
    "outputId": "41f593df-9460-4323-b76d-c675060e5c02"
   },
   "outputs": [
    {
     "data": {
      "text/plain": [
       "Positive              9110\n",
       "Negative              7763\n",
       "Neutral               6172\n",
       "Extremely Positive    5273\n",
       "Extremely Negative    4249\n",
       "Name: category, dtype: int64"
      ]
     },
     "execution_count": 1,
     "metadata": {},
     "output_type": "execute_result"
    }
   ],
   "source": [
    "df.category.value_counts()"
   ]
  },
  {
   "cell_type": "code",
   "execution_count": 7,
   "metadata": {
    "execution": {
     "iopub.execute_input": "2024-05-05T10:51:31.947792Z",
     "iopub.status.busy": "2024-05-05T10:51:31.946995Z",
     "iopub.status.idle": "2024-05-05T10:51:31.951779Z",
     "shell.execute_reply": "2024-05-05T10:51:31.952569Z",
     "shell.execute_reply.started": "2024-05-05T10:15:26.698235Z"
    },
    "id": "LSokWi-ZLQJT"
   },
   "outputs": [],
   "source": [
    "possible_labels = df.category.unique()"
   ]
  },
  {
   "cell_type": "code",
   "execution_count": 8,
   "metadata": {
    "execution": {
     "iopub.execute_input": "2024-05-05T10:51:31.960493Z",
     "iopub.status.busy": "2024-05-05T10:51:31.959457Z",
     "iopub.status.idle": "2024-05-05T10:51:31.962509Z",
     "shell.execute_reply": "2024-05-05T10:51:31.963207Z",
     "shell.execute_reply.started": "2024-05-05T10:15:27.073502Z"
    },
    "id": "Q5-UFriwLQJb"
   },
   "outputs": [],
   "source": [
    "label_dict = {}\n",
    "for index, possible_label in enumerate(possible_labels):\n",
    "    label_dict[possible_label] = index"
   ]
  },
  {
   "cell_type": "code",
   "execution_count": 9,
   "metadata": {
    "execution": {
     "iopub.execute_input": "2024-05-05T10:51:31.972176Z",
     "iopub.status.busy": "2024-05-05T10:51:31.971072Z",
     "iopub.status.idle": "2024-05-05T10:51:31.999319Z",
     "shell.execute_reply": "2024-05-05T10:51:32.000041Z",
     "shell.execute_reply.started": "2024-05-05T10:15:27.464847Z"
    },
    "id": "gsS9pwvdLQJk"
   },
   "outputs": [],
   "source": [
    "df['label'] = df.category.replace(label_dict)"
   ]
  },
  {
   "cell_type": "code",
   "execution_count": 10,
   "metadata": {
    "execution": {
     "iopub.execute_input": "2024-05-05T10:51:32.008751Z",
     "iopub.status.busy": "2024-05-05T10:51:32.007888Z",
     "iopub.status.idle": "2024-05-05T10:51:32.021619Z",
     "shell.execute_reply": "2024-05-05T10:51:32.022341Z",
     "shell.execute_reply.started": "2024-05-05T10:15:33.028574Z"
    },
    "id": "06caCGYPLQJv",
    "outputId": "e956c3e1-8903-478b-f06e-f47e76db8142"
   },
   "outputs": [
    {
     "data": {
      "text/html": [
       "<div>\n",
       "<style scoped>\n",
       "    .dataframe tbody tr th:only-of-type {\n",
       "        vertical-align: middle;\n",
       "    }\n",
       "\n",
       "    .dataframe tbody tr th {\n",
       "        vertical-align: top;\n",
       "    }\n",
       "\n",
       "    .dataframe thead th {\n",
       "        text-align: right;\n",
       "    }\n",
       "</style>\n",
       "<table border=\"1\" class=\"dataframe\">\n",
       "  <thead>\n",
       "    <tr style=\"text-align: right;\">\n",
       "      <th></th>\n",
       "      <th>UserName</th>\n",
       "      <th>ScreenName</th>\n",
       "      <th>Location</th>\n",
       "      <th>TweetAt</th>\n",
       "      <th>OriginalTweet</th>\n",
       "      <th>Sentiment</th>\n",
       "      <th>category</th>\n",
       "      <th>label</th>\n",
       "    </tr>\n",
       "  </thead>\n",
       "  <tbody>\n",
       "    <tr>\n",
       "      <th>0</th>\n",
       "      <td>3799</td>\n",
       "      <td>48751</td>\n",
       "      <td>London</td>\n",
       "      <td>16-03-2020</td>\n",
       "      <td>@MeNyrbie @Phil_Gahan @Chrisitv https://t.co/i...</td>\n",
       "      <td>Neutral</td>\n",
       "      <td>Neutral</td>\n",
       "      <td>0</td>\n",
       "    </tr>\n",
       "    <tr>\n",
       "      <th>1</th>\n",
       "      <td>3800</td>\n",
       "      <td>48752</td>\n",
       "      <td>UK</td>\n",
       "      <td>16-03-2020</td>\n",
       "      <td>advice Talk to your neighbours family to excha...</td>\n",
       "      <td>Positive</td>\n",
       "      <td>Positive</td>\n",
       "      <td>1</td>\n",
       "    </tr>\n",
       "    <tr>\n",
       "      <th>2</th>\n",
       "      <td>3801</td>\n",
       "      <td>48753</td>\n",
       "      <td>Vagabonds</td>\n",
       "      <td>16-03-2020</td>\n",
       "      <td>Coronavirus Australia: Woolworths to give elde...</td>\n",
       "      <td>Positive</td>\n",
       "      <td>Positive</td>\n",
       "      <td>1</td>\n",
       "    </tr>\n",
       "    <tr>\n",
       "      <th>5</th>\n",
       "      <td>3804</td>\n",
       "      <td>48756</td>\n",
       "      <td>ÃT: 36.319708,-82.363649</td>\n",
       "      <td>16-03-2020</td>\n",
       "      <td>As news of the regionÂs first confirmed COVID...</td>\n",
       "      <td>Positive</td>\n",
       "      <td>Positive</td>\n",
       "      <td>1</td>\n",
       "    </tr>\n",
       "    <tr>\n",
       "      <th>6</th>\n",
       "      <td>3805</td>\n",
       "      <td>48757</td>\n",
       "      <td>35.926541,-78.753267</td>\n",
       "      <td>16-03-2020</td>\n",
       "      <td>Cashier at grocery store was sharing his insig...</td>\n",
       "      <td>Positive</td>\n",
       "      <td>Positive</td>\n",
       "      <td>1</td>\n",
       "    </tr>\n",
       "  </tbody>\n",
       "</table>\n",
       "</div>"
      ],
      "text/plain": [
       "   UserName  ScreenName                   Location     TweetAt  \\\n",
       "0      3799       48751                     London  16-03-2020   \n",
       "1      3800       48752                         UK  16-03-2020   \n",
       "2      3801       48753                  Vagabonds  16-03-2020   \n",
       "5      3804       48756  ÃT: 36.319708,-82.363649  16-03-2020   \n",
       "6      3805       48757       35.926541,-78.753267  16-03-2020   \n",
       "\n",
       "                                       OriginalTweet Sentiment  category  \\\n",
       "0  @MeNyrbie @Phil_Gahan @Chrisitv https://t.co/i...   Neutral   Neutral   \n",
       "1  advice Talk to your neighbours family to excha...  Positive  Positive   \n",
       "2  Coronavirus Australia: Woolworths to give elde...  Positive  Positive   \n",
       "5  As news of the regionÂs first confirmed COVID...  Positive  Positive   \n",
       "6  Cashier at grocery store was sharing his insig...  Positive  Positive   \n",
       "\n",
       "   label  \n",
       "0      0  \n",
       "1      1  \n",
       "2      1  \n",
       "5      1  \n",
       "6      1  "
      ]
     },
     "execution_count": 1,
     "metadata": {},
     "output_type": "execute_result"
    }
   ],
   "source": [
    "df.head()"
   ]
  },
  {
   "cell_type": "markdown",
   "metadata": {
    "id": "1YZt9WXcLQJ3"
   },
   "source": [
    "## Training/Validation Split"
   ]
  },
  {
   "cell_type": "code",
   "execution_count": 11,
   "metadata": {
    "execution": {
     "iopub.execute_input": "2024-05-05T10:51:32.028137Z",
     "iopub.status.busy": "2024-05-05T10:51:32.026650Z",
     "iopub.status.idle": "2024-05-05T10:51:32.629906Z",
     "shell.execute_reply": "2024-05-05T10:51:32.630742Z",
     "shell.execute_reply.started": "2024-05-05T10:15:38.025975Z"
    },
    "id": "orbKGYnILQJ5"
   },
   "outputs": [],
   "source": [
    "from sklearn.model_selection import train_test_split"
   ]
  },
  {
   "cell_type": "code",
   "execution_count": 12,
   "metadata": {
    "execution": {
     "iopub.execute_input": "2024-05-05T10:51:32.638139Z",
     "iopub.status.busy": "2024-05-05T10:51:32.636995Z",
     "iopub.status.idle": "2024-05-05T10:51:32.657837Z",
     "shell.execute_reply": "2024-05-05T10:51:32.656191Z",
     "shell.execute_reply.started": "2024-05-05T10:15:55.352659Z"
    },
    "id": "m8uTipI5LQKB"
   },
   "outputs": [],
   "source": [
    "X_train, X_val, y_train, y_val = train_test_split(df.OriginalTweet.values, df.label.values, test_size = 0.15, random_state=17, stratify = df.label.values)"
   ]
  },
  {
   "cell_type": "code",
   "execution_count": 13,
   "metadata": {
    "execution": {
     "iopub.execute_input": "2024-05-05T10:51:32.673672Z",
     "iopub.status.busy": "2024-05-05T10:51:32.672646Z",
     "iopub.status.idle": "2024-05-05T10:51:32.677137Z",
     "shell.execute_reply": "2024-05-05T10:51:32.677716Z",
     "shell.execute_reply.started": "2024-05-05T10:16:05.866355Z"
    },
    "id": "2fPzQfobLQKJ"
   },
   "outputs": [],
   "source": [
    "df['data_type'] = ['not_set']*df.shape[0]"
   ]
  },
  {
   "cell_type": "code",
   "execution_count": 14,
   "metadata": {
    "execution": {
     "iopub.execute_input": "2024-05-05T10:51:32.708481Z",
     "iopub.status.busy": "2024-05-05T10:51:32.707580Z",
     "iopub.status.idle": "2024-05-05T10:51:32.712033Z",
     "shell.execute_reply": "2024-05-05T10:51:32.712833Z",
     "shell.execute_reply.started": "2024-05-05T10:18:31.588910Z"
    },
    "id": "lkPyFD9iLQKS",
    "outputId": "149ff2ab-c5d9-47e9-d56f-4ecc393c306d"
   },
   "outputs": [
    {
     "data": {
      "text/html": [
       "<div>\n",
       "<style scoped>\n",
       "    .dataframe tbody tr th:only-of-type {\n",
       "        vertical-align: middle;\n",
       "    }\n",
       "\n",
       "    .dataframe tbody tr th {\n",
       "        vertical-align: top;\n",
       "    }\n",
       "\n",
       "    .dataframe thead th {\n",
       "        text-align: right;\n",
       "    }\n",
       "</style>\n",
       "<table border=\"1\" class=\"dataframe\">\n",
       "  <thead>\n",
       "    <tr style=\"text-align: right;\">\n",
       "      <th></th>\n",
       "      <th>UserName</th>\n",
       "      <th>ScreenName</th>\n",
       "      <th>Location</th>\n",
       "      <th>TweetAt</th>\n",
       "      <th>OriginalTweet</th>\n",
       "      <th>Sentiment</th>\n",
       "      <th>category</th>\n",
       "      <th>label</th>\n",
       "      <th>data_type</th>\n",
       "    </tr>\n",
       "  </thead>\n",
       "  <tbody>\n",
       "    <tr>\n",
       "      <th>0</th>\n",
       "      <td>3799</td>\n",
       "      <td>48751</td>\n",
       "      <td>London</td>\n",
       "      <td>16-03-2020</td>\n",
       "      <td>@MeNyrbie @Phil_Gahan @Chrisitv https://t.co/i...</td>\n",
       "      <td>Neutral</td>\n",
       "      <td>Neutral</td>\n",
       "      <td>0</td>\n",
       "      <td>not_set</td>\n",
       "    </tr>\n",
       "    <tr>\n",
       "      <th>1</th>\n",
       "      <td>3800</td>\n",
       "      <td>48752</td>\n",
       "      <td>UK</td>\n",
       "      <td>16-03-2020</td>\n",
       "      <td>advice Talk to your neighbours family to excha...</td>\n",
       "      <td>Positive</td>\n",
       "      <td>Positive</td>\n",
       "      <td>1</td>\n",
       "      <td>not_set</td>\n",
       "    </tr>\n",
       "    <tr>\n",
       "      <th>2</th>\n",
       "      <td>3801</td>\n",
       "      <td>48753</td>\n",
       "      <td>Vagabonds</td>\n",
       "      <td>16-03-2020</td>\n",
       "      <td>Coronavirus Australia: Woolworths to give elde...</td>\n",
       "      <td>Positive</td>\n",
       "      <td>Positive</td>\n",
       "      <td>1</td>\n",
       "      <td>not_set</td>\n",
       "    </tr>\n",
       "    <tr>\n",
       "      <th>5</th>\n",
       "      <td>3804</td>\n",
       "      <td>48756</td>\n",
       "      <td>ÃT: 36.319708,-82.363649</td>\n",
       "      <td>16-03-2020</td>\n",
       "      <td>As news of the regionÂs first confirmed COVID...</td>\n",
       "      <td>Positive</td>\n",
       "      <td>Positive</td>\n",
       "      <td>1</td>\n",
       "      <td>not_set</td>\n",
       "    </tr>\n",
       "    <tr>\n",
       "      <th>6</th>\n",
       "      <td>3805</td>\n",
       "      <td>48757</td>\n",
       "      <td>35.926541,-78.753267</td>\n",
       "      <td>16-03-2020</td>\n",
       "      <td>Cashier at grocery store was sharing his insig...</td>\n",
       "      <td>Positive</td>\n",
       "      <td>Positive</td>\n",
       "      <td>1</td>\n",
       "      <td>not_set</td>\n",
       "    </tr>\n",
       "  </tbody>\n",
       "</table>\n",
       "</div>"
      ],
      "text/plain": [
       "   UserName  ScreenName                   Location     TweetAt  \\\n",
       "0      3799       48751                     London  16-03-2020   \n",
       "1      3800       48752                         UK  16-03-2020   \n",
       "2      3801       48753                  Vagabonds  16-03-2020   \n",
       "5      3804       48756  ÃT: 36.319708,-82.363649  16-03-2020   \n",
       "6      3805       48757       35.926541,-78.753267  16-03-2020   \n",
       "\n",
       "                                       OriginalTweet Sentiment  category  \\\n",
       "0  @MeNyrbie @Phil_Gahan @Chrisitv https://t.co/i...   Neutral   Neutral   \n",
       "1  advice Talk to your neighbours family to excha...  Positive  Positive   \n",
       "2  Coronavirus Australia: Woolworths to give elde...  Positive  Positive   \n",
       "5  As news of the regionÂs first confirmed COVID...  Positive  Positive   \n",
       "6  Cashier at grocery store was sharing his insig...  Positive  Positive   \n",
       "\n",
       "   label data_type  \n",
       "0      0   not_set  \n",
       "1      1   not_set  \n",
       "2      1   not_set  \n",
       "5      1   not_set  \n",
       "6      1   not_set  "
      ]
     },
     "execution_count": 1,
     "metadata": {},
     "output_type": "execute_result"
    }
   ],
   "source": [
    "df.head()"
   ]
  },
  {
   "cell_type": "code",
   "execution_count": 15,
   "metadata": {
    "execution": {
     "iopub.execute_input": "2024-05-05T10:51:32.723316Z",
     "iopub.status.busy": "2024-05-05T10:51:32.721956Z",
     "iopub.status.idle": "2024-05-05T10:51:32.774617Z",
     "shell.execute_reply": "2024-05-05T10:51:32.775523Z",
     "shell.execute_reply.started": "2024-05-05T10:20:30.218850Z"
    },
    "id": "m01mkyf8LQKq",
    "outputId": "6dc3fa7c-d010-4215-d4a8-2303777eb1a4"
   },
   "outputs": [
    {
     "data": {
      "text/html": [
       "<div>\n",
       "<style scoped>\n",
       "    .dataframe tbody tr th:only-of-type {\n",
       "        vertical-align: middle;\n",
       "    }\n",
       "\n",
       "    .dataframe tbody tr th {\n",
       "        vertical-align: top;\n",
       "    }\n",
       "\n",
       "    .dataframe thead th {\n",
       "        text-align: right;\n",
       "    }\n",
       "</style>\n",
       "<table border=\"1\" class=\"dataframe\">\n",
       "  <thead>\n",
       "    <tr style=\"text-align: right;\">\n",
       "      <th></th>\n",
       "      <th></th>\n",
       "      <th></th>\n",
       "      <th>UserName</th>\n",
       "      <th>ScreenName</th>\n",
       "      <th>Location</th>\n",
       "      <th>TweetAt</th>\n",
       "      <th>OriginalTweet</th>\n",
       "      <th>Sentiment</th>\n",
       "    </tr>\n",
       "    <tr>\n",
       "      <th>category</th>\n",
       "      <th>label</th>\n",
       "      <th>data_type</th>\n",
       "      <th></th>\n",
       "      <th></th>\n",
       "      <th></th>\n",
       "      <th></th>\n",
       "      <th></th>\n",
       "      <th></th>\n",
       "    </tr>\n",
       "  </thead>\n",
       "  <tbody>\n",
       "    <tr>\n",
       "      <th>Extremely Negative</th>\n",
       "      <th>4</th>\n",
       "      <th>not_set</th>\n",
       "      <td>4249</td>\n",
       "      <td>4249</td>\n",
       "      <td>4249</td>\n",
       "      <td>4249</td>\n",
       "      <td>4249</td>\n",
       "      <td>4249</td>\n",
       "    </tr>\n",
       "    <tr>\n",
       "      <th>Extremely Positive</th>\n",
       "      <th>3</th>\n",
       "      <th>not_set</th>\n",
       "      <td>5273</td>\n",
       "      <td>5273</td>\n",
       "      <td>5273</td>\n",
       "      <td>5273</td>\n",
       "      <td>5273</td>\n",
       "      <td>5273</td>\n",
       "    </tr>\n",
       "    <tr>\n",
       "      <th>Negative</th>\n",
       "      <th>2</th>\n",
       "      <th>not_set</th>\n",
       "      <td>7763</td>\n",
       "      <td>7763</td>\n",
       "      <td>7763</td>\n",
       "      <td>7763</td>\n",
       "      <td>7763</td>\n",
       "      <td>7763</td>\n",
       "    </tr>\n",
       "    <tr>\n",
       "      <th>Neutral</th>\n",
       "      <th>0</th>\n",
       "      <th>not_set</th>\n",
       "      <td>6172</td>\n",
       "      <td>6172</td>\n",
       "      <td>6172</td>\n",
       "      <td>6172</td>\n",
       "      <td>6172</td>\n",
       "      <td>6172</td>\n",
       "    </tr>\n",
       "    <tr>\n",
       "      <th>Positive</th>\n",
       "      <th>1</th>\n",
       "      <th>not_set</th>\n",
       "      <td>9110</td>\n",
       "      <td>9110</td>\n",
       "      <td>9110</td>\n",
       "      <td>9110</td>\n",
       "      <td>9110</td>\n",
       "      <td>9110</td>\n",
       "    </tr>\n",
       "  </tbody>\n",
       "</table>\n",
       "</div>"
      ],
      "text/plain": [
       "                                    UserName  ScreenName  Location  TweetAt  \\\n",
       "category           label data_type                                            \n",
       "Extremely Negative 4     not_set        4249        4249      4249     4249   \n",
       "Extremely Positive 3     not_set        5273        5273      5273     5273   \n",
       "Negative           2     not_set        7763        7763      7763     7763   \n",
       "Neutral            0     not_set        6172        6172      6172     6172   \n",
       "Positive           1     not_set        9110        9110      9110     9110   \n",
       "\n",
       "                                    OriginalTweet  Sentiment  \n",
       "category           label data_type                            \n",
       "Extremely Negative 4     not_set             4249       4249  \n",
       "Extremely Positive 3     not_set             5273       5273  \n",
       "Negative           2     not_set             7763       7763  \n",
       "Neutral            0     not_set             6172       6172  \n",
       "Positive           1     not_set             9110       9110  "
      ]
     },
     "execution_count": 1,
     "metadata": {},
     "output_type": "execute_result"
    }
   ],
   "source": [
    "df.groupby(['category', 'label', 'data_type']).count()"
   ]
  },
  {
   "cell_type": "markdown",
   "metadata": {
    "id": "LGo4qqv2LQKy"
   },
   "source": [
    "##  Loading Tokenizer and Encoding our Data"
   ]
  },
  {
   "cell_type": "code",
   "execution_count": 16,
   "metadata": {
    "execution": {
     "iopub.execute_input": "2024-05-05T10:51:32.783713Z",
     "iopub.status.busy": "2024-05-05T10:51:32.782345Z",
     "iopub.status.idle": "2024-05-05T10:51:37.535742Z",
     "shell.execute_reply": "2024-05-05T10:51:37.536806Z",
     "shell.execute_reply.started": "2024-05-05T10:20:40.872005Z"
    },
    "id": "P36pyp42W7yW",
    "outputId": "2df54689-2c6b-42a1-a1dd-cb33e89e609f"
   },
   "outputs": [
    {
     "name": "stdout",
     "output_type": "stream",
     "text": [
      "Defaulting to user installation because normal site-packages is not writeable\r\n",
      "Requirement already satisfied: transformers in /raid/home/dgx914/.local/lib/python3.6/site-packages (3.0.0)\r\n",
      "Requirement already satisfied: tqdm>=4.27 in /raid/home/dgx914/.local/lib/python3.6/site-packages (from transformers) (4.64.1)\r\n",
      "Requirement already satisfied: numpy in /usr/local/lib/python3.6/dist-packages (from transformers) (1.19.5)\r\n",
      "Requirement already satisfied: requests in /raid/home/dgx914/.local/lib/python3.6/site-packages (from transformers) (2.27.1)\r\n",
      "Requirement already satisfied: filelock in /raid/home/dgx914/.local/lib/python3.6/site-packages (from transformers) (3.4.1)\r\n",
      "Requirement already satisfied: packaging in /raid/home/dgx914/.local/lib/python3.6/site-packages (from transformers) (21.3)\r\n",
      "Requirement already satisfied: regex!=2019.12.17 in /raid/home/dgx914/.local/lib/python3.6/site-packages (from transformers) (2023.8.8)\r\n",
      "Requirement already satisfied: sentencepiece in /raid/home/dgx914/.local/lib/python3.6/site-packages (from transformers) (0.2.0)\r\n",
      "Requirement already satisfied: sacremoses in /raid/home/dgx914/.local/lib/python3.6/site-packages (from transformers) (0.0.53)\r\n",
      "Requirement already satisfied: tokenizers==0.8.0-rc4 in /raid/home/dgx914/.local/lib/python3.6/site-packages (from transformers) (0.8.0rc4)\r\n",
      "Requirement already satisfied: dataclasses in /usr/local/lib/python3.6/dist-packages (from transformers) (0.8)\r\n",
      "Requirement already satisfied: importlib-resources in /raid/home/dgx914/.local/lib/python3.6/site-packages (from tqdm>=4.27->transformers) (5.4.0)\r\n",
      "Requirement already satisfied: pyparsing!=3.0.5,>=2.0.2 in /raid/home/dgx914/.local/lib/python3.6/site-packages (from packaging->transformers) (3.1.2)\r\n",
      "Requirement already satisfied: idna<4,>=2.5 in /usr/lib/python3/dist-packages (from requests->transformers) (2.6)\r\n",
      "Requirement already satisfied: urllib3<1.27,>=1.21.1 in /raid/home/dgx914/.local/lib/python3.6/site-packages (from requests->transformers) (1.26.18)\r\n",
      "Requirement already satisfied: charset-normalizer~=2.0.0 in /raid/home/dgx914/.local/lib/python3.6/site-packages (from requests->transformers) (2.0.12)\r\n",
      "Requirement already satisfied: certifi>=2017.4.17 in /usr/lib/python3/dist-packages (from requests->transformers) (2018.1.18)\r\n",
      "Requirement already satisfied: six in /raid/home/dgx914/.local/lib/python3.6/site-packages (from sacremoses->transformers) (1.15.0)\r\n",
      "Requirement already satisfied: joblib in /raid/home/dgx914/.local/lib/python3.6/site-packages (from sacremoses->transformers) (1.1.1)\r\n",
      "Requirement already satisfied: click in /raid/home/dgx914/.local/lib/python3.6/site-packages (from sacremoses->transformers) (8.0.4)\r\n",
      "Requirement already satisfied: importlib-metadata in /raid/home/dgx914/.local/lib/python3.6/site-packages (from click->sacremoses->transformers) (4.8.3)\r\n",
      "Requirement already satisfied: zipp>=3.1.0 in /raid/home/dgx914/.local/lib/python3.6/site-packages (from importlib-resources->tqdm>=4.27->transformers) (3.6.0)\r\n",
      "Requirement already satisfied: typing-extensions>=3.6.4 in /raid/home/dgx914/.local/lib/python3.6/site-packages (from importlib-metadata->click->sacremoses->transformers) (4.1.1)\r\n",
      "Note: you may need to restart the kernel to use updated packages.\n"
     ]
    }
   ],
   "source": [
    "pip install transformers"
   ]
  },
  {
   "cell_type": "code",
   "execution_count": 17,
   "metadata": {
    "execution": {
     "iopub.execute_input": "2024-05-05T10:51:37.544799Z",
     "iopub.status.busy": "2024-05-05T10:51:37.544012Z",
     "iopub.status.idle": "2024-05-05T10:51:43.184076Z",
     "shell.execute_reply": "2024-05-05T10:51:43.185241Z",
     "shell.execute_reply.started": "2024-05-05T10:20:57.019751Z"
    },
    "id": "Q2MLzKwvLQK0"
   },
   "outputs": [],
   "source": [
    "from transformers import BertTokenizer\n",
    "from torch.utils.data import TensorDataset"
   ]
  },
  {
   "cell_type": "code",
   "execution_count": 18,
   "metadata": {
    "execution": {
     "iopub.execute_input": "2024-05-05T10:51:43.192491Z",
     "iopub.status.busy": "2024-05-05T10:51:43.191505Z",
     "iopub.status.idle": "2024-05-05T10:51:44.851996Z",
     "shell.execute_reply": "2024-05-05T10:51:44.852947Z",
     "shell.execute_reply.started": "2024-05-05T10:20:57.744450Z"
    },
    "id": "4UTcFY0VLQK7",
    "outputId": "8bbc31ff-4185-41c4-b4c6-fcdbc8560a1b"
   },
   "outputs": [],
   "source": [
    "tokenizer = BertTokenizer.from_pretrained('bert-base-uncased', do_lower_case=True)"
   ]
  },
  {
   "cell_type": "code",
   "execution_count": 19,
   "metadata": {
    "execution": {
     "iopub.execute_input": "2024-05-05T10:51:44.862654Z",
     "iopub.status.busy": "2024-05-05T10:51:44.861585Z",
     "iopub.status.idle": "2024-05-05T10:51:44.865814Z",
     "shell.execute_reply": "2024-05-05T10:51:44.866465Z",
     "shell.execute_reply.started": "2024-05-05T10:22:16.118215Z"
    }
   },
   "outputs": [
    {
     "data": {
      "text/plain": [
       "array(['If I were @GovAbbott I\\'d contact @everly_well to get bulk prices on #Covid_19 test kits and work faster to figure out the real picture here in Texas.  #texas has the nation\\'s largest \"rainy day fund.\" It\\'s pouring outside in case you hadn\\'t noticed! ??????',\n",
       "       \"Are you heading out to the grocery store for some items? Don't forget to clean your car during this #CoronavirusPandemic . Cash Cars Buyer offers the following tips: https://t.co/jEZ0yol7TB #WashYourHands #Covid_19 https://t.co/aPnUxVltwy\",\n",
       "       'What have you said today that youÂ\\x92d never have said a month ago? \\r\\r\\n\\r\\r\\nMe: The queue to get into the supermarket only took me half an hour.\\r\\r\\n\\r\\r\\n#ThursdayThoughts #COVID19Pandemic \\r\\r\\n#StayHomeSaveLives \\r\\r\\n#lockdownuk',\n",
       "       ...,\n",
       "       \"So I'm putting flavoured sparkling water in my gin, due to no tonic water of any description at the supermarket. Thanks a lot panic buyers.\\r\\r\\n\\r\\r\\n#Covid_19 #panicbuying #FirstWorldProblems\",\n",
       "       'Just popped into the supermarket for a normal shop - shocked by what I saw. IÂ\\x92ve seen pictures, but when you see it for yourself itÂ\\x92s disappointing. A lots changed in a week! #Covid_19 https://t.co/PjidWj3S8l',\n",
       "       'Thanks to all the Supermarket staffs,  #BlueCollarSolid  workers,  deserve our applause and big thanks who have to work during Covid 19 #USA #Canada #Europe  and thanks for limiting purchases for others as well!!!'],\n",
       "      dtype=object)"
      ]
     },
     "execution_count": 1,
     "metadata": {},
     "output_type": "execute_result"
    }
   ],
   "source": [
    "X_train"
   ]
  },
  {
   "cell_type": "code",
   "execution_count": 20,
   "metadata": {
    "execution": {
     "iopub.execute_input": "2024-05-05T10:51:44.871651Z",
     "iopub.status.busy": "2024-05-05T10:51:44.869592Z",
     "iopub.status.idle": "2024-05-05T10:52:17.653586Z",
     "shell.execute_reply": "2024-05-05T10:52:17.654586Z",
     "shell.execute_reply.started": "2024-05-05T10:22:33.949575Z"
    },
    "id": "JGB8JeRnLQLD",
    "outputId": "ffbecd83-a6e6-42c9-9fed-e99f16783aff"
   },
   "outputs": [
    {
     "name": "stderr",
     "output_type": "stream",
     "text": [
      "Truncation was not explicitely activated but `max_length` is provided a specific value, please use `truncation=True` to explicitely truncate examples to max length. Defaulting to 'only_first' truncation strategy. If you encode pairs of sequences (GLUE-style) with the tokenizer you may want to check this is the right behavior.\n"
     ]
    }
   ],
   "source": [
    "encoded_data_train = tokenizer.batch_encode_plus(X_train,add_special_tokens=True,return_attention_mask=True,pad_to_max_length=True,max_length=256,return_tensors='pt')"
   ]
  },
  {
   "cell_type": "code",
   "execution_count": 21,
   "metadata": {
    "execution": {
     "iopub.execute_input": "2024-05-05T10:52:17.661897Z",
     "iopub.status.busy": "2024-05-05T10:52:17.660890Z",
     "iopub.status.idle": "2024-05-05T10:52:23.324310Z",
     "shell.execute_reply": "2024-05-05T10:52:23.324907Z",
     "shell.execute_reply.started": "2024-05-05T10:23:51.875230Z"
    },
    "id": "JeQBRM8ZLQLU",
    "outputId": "ea524d3b-68a6-4dbd-fd0a-2d95e4a6d69e"
   },
   "outputs": [
    {
     "name": "stderr",
     "output_type": "stream",
     "text": [
      "Truncation was not explicitely activated but `max_length` is provided a specific value, please use `truncation=True` to explicitely truncate examples to max length. Defaulting to 'only_first' truncation strategy. If you encode pairs of sequences (GLUE-style) with the tokenizer you may want to check this is the right behavior.\n"
     ]
    }
   ],
   "source": [
    "encoded_data_val= tokenizer.batch_encode_plus(X_val,add_special_tokens=True,return_attention_mask=True,pad_to_max_length=True,max_length=256,return_tensors='pt')"
   ]
  },
  {
   "cell_type": "code",
   "execution_count": 22,
   "metadata": {
    "execution": {
     "iopub.execute_input": "2024-05-05T10:52:23.331295Z",
     "iopub.status.busy": "2024-05-05T10:52:23.330501Z",
     "iopub.status.idle": "2024-05-05T10:52:23.360928Z",
     "shell.execute_reply": "2024-05-05T10:52:23.361565Z",
     "shell.execute_reply.started": "2024-05-05T10:24:16.209481Z"
    },
    "id": "BZB05sgOLQLc"
   },
   "outputs": [],
   "source": [
    "input_ids_train = encoded_data_train['input_ids']\n",
    "attention_masks_train = encoded_data_train['attention_mask']\n",
    "labels_train = torch.tensor(y_train)"
   ]
  },
  {
   "cell_type": "code",
   "execution_count": 23,
   "metadata": {
    "execution": {
     "iopub.execute_input": "2024-05-05T10:52:23.367851Z",
     "iopub.status.busy": "2024-05-05T10:52:23.367030Z",
     "iopub.status.idle": "2024-05-05T10:52:23.370765Z",
     "shell.execute_reply": "2024-05-05T10:52:23.371567Z",
     "shell.execute_reply.started": "2024-05-05T10:24:23.664750Z"
    },
    "id": "o6Z14b9ILQLm"
   },
   "outputs": [],
   "source": [
    "input_ids_val = encoded_data_val['input_ids']\n",
    "attention_masks_val= encoded_data_val['attention_mask']\n",
    "labels_val = torch.tensor(y_val)"
   ]
  },
  {
   "cell_type": "code",
   "execution_count": 24,
   "metadata": {
    "execution": {
     "iopub.execute_input": "2024-05-05T10:52:23.378502Z",
     "iopub.status.busy": "2024-05-05T10:52:23.377574Z",
     "iopub.status.idle": "2024-05-05T10:52:23.380943Z",
     "shell.execute_reply": "2024-05-05T10:52:23.381671Z",
     "shell.execute_reply.started": "2024-05-05T10:24:28.772214Z"
    },
    "id": "Kc-RaMOtLQLt"
   },
   "outputs": [],
   "source": [
    "dataset_train = TensorDataset(input_ids_train, attention_masks_train, labels_train)\n",
    "dataset_val = TensorDataset(input_ids_val, attention_masks_val, labels_val)"
   ]
  },
  {
   "cell_type": "code",
   "execution_count": 25,
   "metadata": {
    "execution": {
     "iopub.execute_input": "2024-05-05T10:52:23.395184Z",
     "iopub.status.busy": "2024-05-05T10:52:23.393915Z",
     "iopub.status.idle": "2024-05-05T10:52:23.401713Z",
     "shell.execute_reply": "2024-05-05T10:52:23.402963Z",
     "shell.execute_reply.started": "2024-05-05T10:24:34.281814Z"
    },
    "id": "WMXiMqOALQL0",
    "outputId": "2f264df3-f043-406f-a305-85984a52705f"
   },
   "outputs": [
    {
     "data": {
      "text/plain": [
       "27681"
      ]
     },
     "execution_count": 1,
     "metadata": {},
     "output_type": "execute_result"
    }
   ],
   "source": [
    "len(dataset_train)"
   ]
  },
  {
   "cell_type": "code",
   "execution_count": 26,
   "metadata": {
    "execution": {
     "iopub.execute_input": "2024-05-05T10:52:23.413717Z",
     "iopub.status.busy": "2024-05-05T10:52:23.412530Z",
     "iopub.status.idle": "2024-05-05T10:52:23.416674Z",
     "shell.execute_reply": "2024-05-05T10:52:23.417805Z",
     "shell.execute_reply.started": "2024-05-05T10:24:34.631090Z"
    },
    "id": "ZSN0wGkdLQL-",
    "outputId": "52c01319-d8d0-41a2-bf89-391ce0a76dfc"
   },
   "outputs": [
    {
     "data": {
      "text/plain": [
       "4886"
      ]
     },
     "execution_count": 1,
     "metadata": {},
     "output_type": "execute_result"
    }
   ],
   "source": [
    "len(dataset_val)"
   ]
  },
  {
   "cell_type": "markdown",
   "metadata": {
    "id": "Y79K5NXlLQMI"
   },
   "source": [
    "##  Setting up BERT Pretrained Model"
   ]
  },
  {
   "cell_type": "code",
   "execution_count": 27,
   "metadata": {
    "execution": {
     "iopub.execute_input": "2024-05-05T10:52:23.425516Z",
     "iopub.status.busy": "2024-05-05T10:52:23.424422Z",
     "iopub.status.idle": "2024-05-05T10:52:23.427626Z",
     "shell.execute_reply": "2024-05-05T10:52:23.428301Z",
     "shell.execute_reply.started": "2024-05-05T10:24:42.134277Z"
    },
    "id": "opaspziCLQMW"
   },
   "outputs": [],
   "source": [
    "from transformers import BertForSequenceClassification"
   ]
  },
  {
   "cell_type": "code",
   "execution_count": 28,
   "metadata": {
    "execution": {
     "iopub.execute_input": "2024-05-05T10:52:23.435284Z",
     "iopub.status.busy": "2024-05-05T10:52:23.434217Z",
     "iopub.status.idle": "2024-05-05T10:52:30.385135Z",
     "shell.execute_reply": "2024-05-05T10:52:30.385806Z",
     "shell.execute_reply.started": "2024-05-05T10:24:44.002952Z"
    },
    "id": "fw2q_F6PLQMf",
    "outputId": "c21dfbc9-c60d-4699-a2b2-f71c69778837"
   },
   "outputs": [
    {
     "name": "stderr",
     "output_type": "stream",
     "text": [
      "Some weights of the model checkpoint at bert-base-uncased were not used when initializing BertForSequenceClassification: ['cls.predictions.bias', 'cls.predictions.transform.dense.weight', 'cls.predictions.transform.dense.bias', 'cls.predictions.decoder.weight', 'cls.seq_relationship.weight', 'cls.seq_relationship.bias', 'cls.predictions.transform.LayerNorm.weight', 'cls.predictions.transform.LayerNorm.bias']\n",
      "- This IS expected if you are initializing BertForSequenceClassification from the checkpoint of a model trained on another task or with another architecture (e.g. initializing a BertForSequenceClassification model from a BertForPretraining model).\n",
      "- This IS NOT expected if you are initializing BertForSequenceClassification from the checkpoint of a model that you expect to be exactly identical (initializing a BertForSequenceClassification model from a BertForSequenceClassification model).\n",
      "Some weights of BertForSequenceClassification were not initialized from the model checkpoint at bert-base-uncased and are newly initialized: ['classifier.weight', 'classifier.bias']\n",
      "You should probably TRAIN this model on a down-stream task to be able to use it for predictions and inference.\n"
     ]
    }
   ],
   "source": [
    "model = BertForSequenceClassification.from_pretrained('bert-base-uncased', num_labels = len(label_dict), output_attentions=False,output_hidden_states=False)"
   ]
  },
  {
   "cell_type": "markdown",
   "metadata": {
    "id": "_JTXXzjGLQMm"
   },
   "source": [
    "##  Creating Data Loaders"
   ]
  },
  {
   "cell_type": "code",
   "execution_count": 29,
   "metadata": {
    "execution": {
     "iopub.execute_input": "2024-05-05T10:52:30.394224Z",
     "iopub.status.busy": "2024-05-05T10:52:30.391104Z",
     "iopub.status.idle": "2024-05-05T10:52:30.400873Z",
     "shell.execute_reply": "2024-05-05T10:52:30.401900Z",
     "shell.execute_reply.started": "2024-05-05T10:25:00.421083Z"
    },
    "id": "gVjsBzXeLQMo"
   },
   "outputs": [],
   "source": [
    "from torch.utils.data import DataLoader, RandomSampler, SequentialSampler"
   ]
  },
  {
   "cell_type": "code",
   "execution_count": 30,
   "metadata": {
    "execution": {
     "iopub.execute_input": "2024-05-05T10:52:30.411341Z",
     "iopub.status.busy": "2024-05-05T10:52:30.410029Z",
     "iopub.status.idle": "2024-05-05T10:52:30.422109Z",
     "shell.execute_reply": "2024-05-05T10:52:30.423885Z",
     "shell.execute_reply.started": "2024-05-05T10:25:00.431736Z"
    },
    "id": "vZuLqoukLQMw"
   },
   "outputs": [],
   "source": [
    "batch_size = 32 #32\n",
    "\n",
    "dataloader_train = DataLoader(dataset_train,sampler=RandomSampler(dataset_train),batch_size=batch_size)"
   ]
  },
  {
   "cell_type": "code",
   "execution_count": 31,
   "metadata": {
    "execution": {
     "iopub.execute_input": "2024-05-05T10:52:30.432865Z",
     "iopub.status.busy": "2024-05-05T10:52:30.431579Z",
     "iopub.status.idle": "2024-05-05T10:52:30.434506Z",
     "shell.execute_reply": "2024-05-05T10:52:30.435600Z",
     "shell.execute_reply.started": "2024-05-05T10:25:00.453715Z"
    },
    "id": "9SCL_JVPLQM6"
   },
   "outputs": [],
   "source": [
    "\n",
    "dataloader_val = DataLoader(dataset_val,sampler=RandomSampler(dataset_val),batch_size=32)"
   ]
  },
  {
   "cell_type": "markdown",
   "metadata": {
    "id": "I-Y8BcgYLQNA"
   },
   "source": [
    "##  Setting Up Optimizer and Scheduler"
   ]
  },
  {
   "cell_type": "code",
   "execution_count": 32,
   "metadata": {
    "execution": {
     "iopub.execute_input": "2024-05-05T10:52:30.442664Z",
     "iopub.status.busy": "2024-05-05T10:52:30.441812Z",
     "iopub.status.idle": "2024-05-05T10:52:30.445029Z",
     "shell.execute_reply": "2024-05-05T10:52:30.445723Z",
     "shell.execute_reply.started": "2024-05-05T10:25:09.736864Z"
    },
    "id": "Q5nCT33mLQNC"
   },
   "outputs": [],
   "source": [
    "from transformers import AdamW, get_linear_schedule_with_warmup"
   ]
  },
  {
   "cell_type": "code",
   "execution_count": 33,
   "metadata": {
    "execution": {
     "iopub.execute_input": "2024-05-05T10:52:30.452770Z",
     "iopub.status.busy": "2024-05-05T10:52:30.451939Z",
     "iopub.status.idle": "2024-05-05T10:52:30.455204Z",
     "shell.execute_reply": "2024-05-05T10:52:30.456303Z",
     "shell.execute_reply.started": "2024-05-05T10:25:15.581827Z"
    },
    "id": "5Pr_JUumLQNL"
   },
   "outputs": [],
   "source": [
    "optimizer = AdamW(model.parameters(),lr=1e-5, #2e-5 > 5e-5 \n",
    "                 eps=1e-8)"
   ]
  },
  {
   "cell_type": "code",
   "execution_count": 34,
   "metadata": {
    "execution": {
     "iopub.execute_input": "2024-05-05T10:52:30.465575Z",
     "iopub.status.busy": "2024-05-05T10:52:30.464280Z",
     "iopub.status.idle": "2024-05-05T10:52:30.470276Z",
     "shell.execute_reply": "2024-05-05T10:52:30.470951Z",
     "shell.execute_reply.started": "2024-05-05T10:33:36.048204Z"
    },
    "id": "dW7WNzOdLQNS"
   },
   "outputs": [],
   "source": [
    "epochs=2\n",
    "\n",
    "scheduler = get_linear_schedule_with_warmup(optimizer,num_warmup_steps=0,num_training_steps=len(dataloader_train)*epochs)"
   ]
  },
  {
   "cell_type": "markdown",
   "metadata": {
    "id": "QmSqAJQiLQNZ"
   },
   "source": [
    "##  Defining our Performance Metrics"
   ]
  },
  {
   "cell_type": "code",
   "execution_count": 35,
   "metadata": {
    "execution": {
     "iopub.execute_input": "2024-05-05T10:52:30.476746Z",
     "iopub.status.busy": "2024-05-05T10:52:30.475975Z",
     "iopub.status.idle": "2024-05-05T10:52:30.479291Z",
     "shell.execute_reply": "2024-05-05T10:52:30.480154Z",
     "shell.execute_reply.started": "2024-05-05T10:33:43.926458Z"
    },
    "id": "uJdsXm-lLQNb"
   },
   "outputs": [],
   "source": [
    "import numpy as np"
   ]
  },
  {
   "cell_type": "code",
   "execution_count": 36,
   "metadata": {
    "execution": {
     "iopub.execute_input": "2024-05-05T10:52:30.486155Z",
     "iopub.status.busy": "2024-05-05T10:52:30.484900Z",
     "iopub.status.idle": "2024-05-05T10:52:30.489885Z",
     "shell.execute_reply": "2024-05-05T10:52:30.491150Z",
     "shell.execute_reply.started": "2024-05-05T10:33:44.312531Z"
    },
    "id": "ZPab2NO7LQNk"
   },
   "outputs": [],
   "source": [
    "from sklearn.metrics import f1_score"
   ]
  },
  {
   "cell_type": "code",
   "execution_count": 37,
   "metadata": {
    "execution": {
     "iopub.execute_input": "2024-05-05T10:52:30.501701Z",
     "iopub.status.busy": "2024-05-05T10:52:30.500550Z",
     "iopub.status.idle": "2024-05-05T10:52:30.502844Z",
     "shell.execute_reply": "2024-05-05T10:52:30.503577Z",
     "shell.execute_reply.started": "2024-05-05T10:33:44.627833Z"
    },
    "id": "n4UgLs0_LQN6"
   },
   "outputs": [],
   "source": [
    "def f1_score_func(preds, labels):\n",
    "    preds_flat = np.argmax(preds, axis=1).flatten()\n",
    "    labels_flat = labels.flatten()\n",
    "    return f1_score(labels_flat, preds_flat, average='weighted')"
   ]
  },
  {
   "cell_type": "code",
   "execution_count": 38,
   "metadata": {
    "execution": {
     "iopub.execute_input": "2024-05-05T10:52:30.513729Z",
     "iopub.status.busy": "2024-05-05T10:52:30.512733Z",
     "iopub.status.idle": "2024-05-05T10:52:30.515633Z",
     "shell.execute_reply": "2024-05-05T10:52:30.516558Z",
     "shell.execute_reply.started": "2024-05-05T10:33:44.939040Z"
    },
    "id": "6_BD0jPrLQOI"
   },
   "outputs": [],
   "source": [
    "def accuracy_per_class(preds, labels):\n",
    "    labels_dict_inverse = {v: k for k,v in label_dict.items()}\n",
    "    \n",
    "    preds_flat = np.argmax(preds,axis=1).flatten()\n",
    "    labels_flat = labels.flatten()\n",
    "    \n",
    "    for label in np.unique(labels_flat):\n",
    "        y_preds = preds_flat[labels_flat==label]\n",
    "        y_true = labels_flat[labels_flat==label]\n",
    "        print(f'Class: {labels_dict_inverse[label]}')\n",
    "        print(f'Accuracy: {len(y_preds[y_preds==label])}/{len(y_true)}\\n')"
   ]
  },
  {
   "cell_type": "markdown",
   "metadata": {
    "id": "JXFjptHYLQOP"
   },
   "source": [
    "## Creating our Training Loop"
   ]
  },
  {
   "cell_type": "code",
   "execution_count": 39,
   "metadata": {
    "execution": {
     "iopub.execute_input": "2024-05-05T10:52:30.528440Z",
     "iopub.status.busy": "2024-05-05T10:52:30.527422Z",
     "iopub.status.idle": "2024-05-05T10:52:30.534289Z",
     "shell.execute_reply": "2024-05-05T10:52:30.535008Z",
     "shell.execute_reply.started": "2024-05-05T10:33:45.734468Z"
    },
    "id": "CQrIavpHLQOS"
   },
   "outputs": [],
   "source": [
    "import random\n",
    "\n",
    "seed_val = 8\n",
    "random.seed(seed_val)\n",
    "np.random.seed(seed_val)\n",
    "torch.manual_seed(seed_val)\n",
    "torch.cuda.manual_seed_all(seed_val)"
   ]
  },
  {
   "cell_type": "code",
   "execution_count": 40,
   "metadata": {
    "execution": {
     "iopub.execute_input": "2024-05-05T10:52:30.637839Z",
     "iopub.status.busy": "2024-05-05T10:52:30.636540Z",
     "iopub.status.idle": "2024-05-05T10:52:38.707036Z",
     "shell.execute_reply": "2024-05-05T10:52:38.707684Z",
     "shell.execute_reply.started": "2024-05-05T10:33:46.076757Z"
    },
    "id": "b7I-g-FzLQOh",
    "outputId": "17125a04-7324-468d-977f-760e435617af"
   },
   "outputs": [
    {
     "name": "stdout",
     "output_type": "stream",
     "text": [
      "cuda\n"
     ]
    }
   ],
   "source": [
    "device = torch.device('cuda' if torch.cuda.is_available() else 'cpu')\n",
    "model.to(device)\n",
    "\n",
    "print(device)"
   ]
  },
  {
   "cell_type": "code",
   "execution_count": 41,
   "metadata": {
    "execution": {
     "iopub.execute_input": "2024-05-05T10:52:38.721570Z",
     "iopub.status.busy": "2024-05-05T10:52:38.720852Z",
     "iopub.status.idle": "2024-05-05T10:52:38.722943Z",
     "shell.execute_reply": "2024-05-05T10:52:38.723418Z",
     "shell.execute_reply.started": "2024-05-05T10:33:46.572746Z"
    },
    "id": "6hMpepwPLQOp"
   },
   "outputs": [],
   "source": [
    "def evaluate(dataloader_val):\n",
    "\n",
    "    model.eval()\n",
    "    \n",
    "    loss_val_total = 0\n",
    "    predictions, true_vals = [], []\n",
    "    \n",
    "    for batch in dataloader_val:\n",
    "        \n",
    "        batch = tuple(b.to(device) for b in batch)\n",
    "        \n",
    "        inputs = {'input_ids':      batch[0],\n",
    "                  'attention_mask': batch[1],\n",
    "                  'labels':         batch[2],\n",
    "                 }\n",
    "\n",
    "        with torch.no_grad():        \n",
    "            outputs = model(**inputs)\n",
    "            \n",
    "        loss = outputs[0]\n",
    "        logits = outputs[1]\n",
    "        loss_val_total += loss.item()\n",
    "\n",
    "        logits = logits.detach().cpu().numpy()\n",
    "        label_ids = inputs['labels'].cpu().numpy()\n",
    "        predictions.append(logits)\n",
    "        true_vals.append(label_ids)\n",
    "    \n",
    "    loss_val_avg = loss_val_total/len(dataloader_val) \n",
    "    \n",
    "    predictions = np.concatenate(predictions, axis=0)\n",
    "    true_vals = np.concatenate(true_vals, axis=0)\n",
    "            \n",
    "    return loss_val_avg, predictions, true_vals\n"
   ]
  },
  {
   "cell_type": "code",
   "execution_count": 42,
   "metadata": {
    "execution": {
     "iopub.execute_input": "2024-05-05T10:52:38.727257Z",
     "iopub.status.busy": "2024-05-05T10:52:38.726490Z",
     "iopub.status.idle": "2024-05-05T11:07:04.323284Z",
     "shell.execute_reply": "2024-05-05T11:07:04.323871Z"
    },
    "id": "qGEtAVIBLQOz",
    "outputId": "b21f7d3f-9ace-4b19-8f97-16f51991bfee"
   },
   "outputs": [
    {
     "data": {
      "application/vnd.jupyter.widget-view+json": {
       "model_id": "6347dd94e3014fcd873ed3efa260d73b",
       "version_major": 2,
       "version_minor": 0
      },
      "text/plain": [
       "  0%|          | 0/2 [00:00<?, ?it/s]"
      ]
     },
     "metadata": {},
     "output_type": "display_data"
    },
    {
     "data": {
      "application/vnd.jupyter.widget-view+json": {
       "model_id": "c79465b49d46484ebb0045c4ff7820e1",
       "version_major": 2,
       "version_minor": 0
      },
      "text/plain": [
       "Epoch 1:   0%|          | 0/866 [00:00<?, ?it/s]"
      ]
     },
     "metadata": {},
     "output_type": "display_data"
    },
    {
     "name": "stdout",
     "output_type": "stream",
     "text": [
      "\n",
      "Epoch {epoch}\n",
      "Training loss: {loss_train_avg}\n",
      "Validation loss: 0.8157962568445143\n",
      "F1 Score (weighted): 0.6644506219077202\n"
     ]
    },
    {
     "data": {
      "application/vnd.jupyter.widget-view+json": {
       "model_id": "c09fe6d547c841df983d3853c1759322",
       "version_major": 2,
       "version_minor": 0
      },
      "text/plain": [
       "Epoch 2:   0%|          | 0/866 [00:00<?, ?it/s]"
      ]
     },
     "metadata": {},
     "output_type": "display_data"
    },
    {
     "name": "stdout",
     "output_type": "stream",
     "text": [
      "\n",
      "Epoch {epoch}\n",
      "Training loss: {loss_train_avg}\n",
      "Validation loss: 0.7139207046795515\n",
      "F1 Score (weighted): 0.7227466022905803\n"
     ]
    }
   ],
   "source": [
    "for epoch in tqdm(range(1, epochs+1)):\n",
    "    \n",
    "    model.train()\n",
    "    \n",
    "    loss_train_total = 0\n",
    "    \n",
    "    progress_bar =  tqdm(dataloader_train, desc='Epoch {:1d}'.format(epoch),leave=False,disable=False)\n",
    "    \n",
    "    for batch in progress_bar:\n",
    "        \n",
    "        model.zero_grad()\n",
    "        \n",
    "        batch = tuple(b.to(device) for b in batch)\n",
    "        \n",
    "        inputs = {\n",
    "            'input_ids' : batch[0],\n",
    "            'attention_mask' : batch[1],\n",
    "            'labels' : batch[2]\n",
    "            \n",
    "        }\n",
    "        \n",
    "        outputs = model(**inputs)\n",
    "        \n",
    "        loss = outputs[0]\n",
    "        loss_train_total += loss.item()\n",
    "        loss.backward()\n",
    "        \n",
    "        torch.nn.utils.clip_grad_norm_(model.parameters(), 1.0)\n",
    "        \n",
    "        optimizer.step()\n",
    "        scheduler.step()\n",
    "        \n",
    "        progress_bar.set_postfix({'training_loss' : '{:.3f}'.format(loss.item()/len(batch))})\n",
    "        \n",
    "    #torch.save(model.state_dict(), f'Models/BERT_ft_epoch{epoch}.model')\n",
    "    \n",
    "    tqdm.write('\\nEpoch {epoch}')\n",
    "    \n",
    "    loss_train_avg = loss_train_total/len(dataloader_train)\n",
    "    tqdm.write('Training loss: {loss_train_avg}')\n",
    "    \n",
    "    val_loss, predictions, true_vals = evaluate(dataloader_val)\n",
    "    val_f1 = f1_score_func(predictions, true_vals)\n",
    "    tqdm.write(f'Validation loss: {val_loss}')\n",
    "    tqdm.write(f'F1 Score (weighted): {val_f1}')"
   ]
  },
  {
   "cell_type": "markdown",
   "metadata": {
    "id": "nmvsA23qLQO7"
   },
   "source": [
    "##  Loading and Evaluating our Model"
   ]
  },
  {
   "cell_type": "code",
   "execution_count": 43,
   "metadata": {
    "execution": {
     "iopub.execute_input": "2024-05-05T11:07:04.336700Z",
     "iopub.status.busy": "2024-05-05T11:07:04.335850Z",
     "iopub.status.idle": "2024-05-05T11:07:26.940300Z",
     "shell.execute_reply": "2024-05-05T11:07:26.941918Z"
    },
    "id": "VppPVTstLQPI"
   },
   "outputs": [],
   "source": [
    "_, predictions, true_vals = evaluate(dataloader_val)"
   ]
  },
  {
   "cell_type": "code",
   "execution_count": 44,
   "metadata": {
    "execution": {
     "iopub.execute_input": "2024-05-05T11:07:26.959018Z",
     "iopub.status.busy": "2024-05-05T11:07:26.956372Z",
     "iopub.status.idle": "2024-05-05T11:07:26.977012Z",
     "shell.execute_reply": "2024-05-05T11:07:26.977929Z"
    },
    "id": "egPlZoUhLQPR",
    "outputId": "f0085915-1538-482f-fc1a-3dff690f4d98"
   },
   "outputs": [
    {
     "name": "stdout",
     "output_type": "stream",
     "text": [
      "Class: Neutral\n",
      "Accuracy: 708/926\n",
      "\n",
      "Class: Positive\n",
      "Accuracy: 908/1367\n",
      "\n",
      "Class: Negative\n",
      "Accuracy: 762/1165\n",
      "\n",
      "Class: Extremely Positive\n",
      "Accuracy: 646/791\n",
      "\n",
      "Class: Extremely Negative\n",
      "Accuracy: 512/637\n",
      "\n"
     ]
    }
   ],
   "source": [
    "accuracy_per_class(predictions, true_vals )"
   ]
  },
  {
   "cell_type": "code",
   "execution_count": null,
   "metadata": {
    "id": "cRQySuW_ZcSH"
   },
   "outputs": [],
   "source": []
  }
 ],
 "metadata": {
  "kaggle": {
   "accelerator": "none",
   "dataSources": [
    {
     "datasetId": 564100,
     "sourceId": 1024825,
     "sourceType": "datasetVersion"
    },
    {
     "datasetId": 561256,
     "sourceId": 1103067,
     "sourceType": "datasetVersion"
    },
    {
     "datasetId": 548681,
     "sourceId": 1157383,
     "sourceType": "datasetVersion"
    },
    {
     "datasetId": 773597,
     "sourceId": 1332516,
     "sourceType": "datasetVersion"
    },
    {
     "datasetId": 494766,
     "sourceId": 1402868,
     "sourceType": "datasetVersion"
    },
    {
     "datasetId": 798386,
     "sourceId": 1451513,
     "sourceType": "datasetVersion"
    },
    {
     "datasetId": 555089,
     "sourceId": 1719967,
     "sourceType": "datasetVersion"
    },
    {
     "datasetId": 618335,
     "sourceId": 1919550,
     "sourceType": "datasetVersion"
    },
    {
     "datasetId": 594573,
     "sourceId": 2345866,
     "sourceType": "datasetVersion"
    },
    {
     "datasetId": 557629,
     "sourceId": 2516524,
     "sourceType": "datasetVersion"
    },
    {
     "datasetId": 1879288,
     "sourceId": 3263804,
     "sourceType": "datasetVersion"
    },
    {
     "datasetId": 576013,
     "sourceId": 3324348,
     "sourceType": "datasetVersion"
    },
    {
     "datasetId": 1093816,
     "sourceId": 3385976,
     "sourceType": "datasetVersion"
    },
    {
     "datasetId": 693956,
     "sourceId": 4214699,
     "sourceType": "datasetVersion"
    },
    {
     "datasetId": 837624,
     "sourceId": 5614663,
     "sourceType": "datasetVersion"
    },
    {
     "datasetId": 582631,
     "sourceId": 5867974,
     "sourceType": "datasetVersion"
    },
    {
     "datasetId": 1390187,
     "sourceId": 6456145,
     "sourceType": "datasetVersion"
    },
    {
     "datasetId": 4339697,
     "sourceId": 7455460,
     "sourceType": "datasetVersion"
    }
   ],
   "dockerImageVersionId": 30260,
   "isGpuEnabled": false,
   "isInternetEnabled": true,
   "language": "python",
   "sourceType": "notebook"
  },
  "kernelspec": {
   "display_name": "Python 3",
   "language": "python",
   "name": "python3"
  },
  "language_info": {
   "codemirror_mode": {
    "name": "ipython",
    "version": 3
   },
   "file_extension": ".py",
   "mimetype": "text/x-python",
   "name": "python",
   "nbconvert_exporter": "python",
   "pygments_lexer": "ipython3",
   "version": "3.6.9"
  },
  "widgets": {
   "application/vnd.jupyter.widget-state+json": {
    "state": {
     "1238393212c04860bae85ef01f83ee69": {
      "model_module": "@jupyter-widgets/controls",
      "model_module_version": "1.5.0",
      "model_name": "FloatProgressModel",
      "state": {
       "_dom_classes": [],
       "_model_module": "@jupyter-widgets/controls",
       "_model_module_version": "1.5.0",
       "_model_name": "FloatProgressModel",
       "_view_count": null,
       "_view_module": "@jupyter-widgets/controls",
       "_view_module_version": "1.5.0",
       "_view_name": "ProgressView",
       "bar_style": "success",
       "description": "",
       "description_tooltip": null,
       "layout": "IPY_MODEL_539c8fe11f0f4c4881fae816d06bc159",
       "max": 2.0,
       "min": 0.0,
       "orientation": "horizontal",
       "style": "IPY_MODEL_e52adadda158486f8e92d90a8a8b5919",
       "value": 2.0
      }
     },
     "1eaa9f196af34ef4bf1df9e3619ebc0c": {
      "model_module": "@jupyter-widgets/base",
      "model_module_version": "1.2.0",
      "model_name": "LayoutModel",
      "state": {
       "_model_module": "@jupyter-widgets/base",
       "_model_module_version": "1.2.0",
       "_model_name": "LayoutModel",
       "_view_count": null,
       "_view_module": "@jupyter-widgets/base",
       "_view_module_version": "1.2.0",
       "_view_name": "LayoutView",
       "align_content": null,
       "align_items": null,
       "align_self": null,
       "border": null,
       "bottom": null,
       "display": null,
       "flex": null,
       "flex_flow": null,
       "grid_area": null,
       "grid_auto_columns": null,
       "grid_auto_flow": null,
       "grid_auto_rows": null,
       "grid_column": null,
       "grid_gap": null,
       "grid_row": null,
       "grid_template_areas": null,
       "grid_template_columns": null,
       "grid_template_rows": null,
       "height": null,
       "justify_content": null,
       "justify_items": null,
       "left": null,
       "margin": null,
       "max_height": null,
       "max_width": null,
       "min_height": null,
       "min_width": null,
       "object_fit": null,
       "object_position": null,
       "order": null,
       "overflow": null,
       "overflow_x": null,
       "overflow_y": null,
       "padding": null,
       "right": null,
       "top": null,
       "visibility": "hidden",
       "width": null
      }
     },
     "22696b0ffa084ffb9d534ca5b472c986": {
      "model_module": "@jupyter-widgets/controls",
      "model_module_version": "1.5.0",
      "model_name": "DescriptionStyleModel",
      "state": {
       "_model_module": "@jupyter-widgets/controls",
       "_model_module_version": "1.5.0",
       "_model_name": "DescriptionStyleModel",
       "_view_count": null,
       "_view_module": "@jupyter-widgets/base",
       "_view_module_version": "1.2.0",
       "_view_name": "StyleView",
       "description_width": ""
      }
     },
     "44120b2c2c11442ba3c6fb0715c588d4": {
      "model_module": "@jupyter-widgets/base",
      "model_module_version": "1.2.0",
      "model_name": "LayoutModel",
      "state": {
       "_model_module": "@jupyter-widgets/base",
       "_model_module_version": "1.2.0",
       "_model_name": "LayoutModel",
       "_view_count": null,
       "_view_module": "@jupyter-widgets/base",
       "_view_module_version": "1.2.0",
       "_view_name": "LayoutView",
       "align_content": null,
       "align_items": null,
       "align_self": null,
       "border": null,
       "bottom": null,
       "display": null,
       "flex": null,
       "flex_flow": null,
       "grid_area": null,
       "grid_auto_columns": null,
       "grid_auto_flow": null,
       "grid_auto_rows": null,
       "grid_column": null,
       "grid_gap": null,
       "grid_row": null,
       "grid_template_areas": null,
       "grid_template_columns": null,
       "grid_template_rows": null,
       "height": null,
       "justify_content": null,
       "justify_items": null,
       "left": null,
       "margin": null,
       "max_height": null,
       "max_width": null,
       "min_height": null,
       "min_width": null,
       "object_fit": null,
       "object_position": null,
       "order": null,
       "overflow": null,
       "overflow_x": null,
       "overflow_y": null,
       "padding": null,
       "right": null,
       "top": null,
       "visibility": null,
       "width": null
      }
     },
     "4fa960416c31497a90ec10506ee50030": {
      "model_module": "@jupyter-widgets/controls",
      "model_module_version": "1.5.0",
      "model_name": "HTMLModel",
      "state": {
       "_dom_classes": [],
       "_model_module": "@jupyter-widgets/controls",
       "_model_module_version": "1.5.0",
       "_model_name": "HTMLModel",
       "_view_count": null,
       "_view_module": "@jupyter-widgets/controls",
       "_view_module_version": "1.5.0",
       "_view_name": "HTMLView",
       "description": "",
       "description_tooltip": null,
       "layout": "IPY_MODEL_88cb680d7f6341fe8cd3136961b1382a",
       "placeholder": "​",
       "style": "IPY_MODEL_7cd09885b46e4b6b9a0759e40a130b0f",
       "value": " 865/866 [06:50&lt;00:00,  2.04it/s, training_loss=0.932]"
      }
     },
     "539c8fe11f0f4c4881fae816d06bc159": {
      "model_module": "@jupyter-widgets/base",
      "model_module_version": "1.2.0",
      "model_name": "LayoutModel",
      "state": {
       "_model_module": "@jupyter-widgets/base",
       "_model_module_version": "1.2.0",
       "_model_name": "LayoutModel",
       "_view_count": null,
       "_view_module": "@jupyter-widgets/base",
       "_view_module_version": "1.2.0",
       "_view_name": "LayoutView",
       "align_content": null,
       "align_items": null,
       "align_self": null,
       "border": null,
       "bottom": null,
       "display": null,
       "flex": null,
       "flex_flow": null,
       "grid_area": null,
       "grid_auto_columns": null,
       "grid_auto_flow": null,
       "grid_auto_rows": null,
       "grid_column": null,
       "grid_gap": null,
       "grid_row": null,
       "grid_template_areas": null,
       "grid_template_columns": null,
       "grid_template_rows": null,
       "height": null,
       "justify_content": null,
       "justify_items": null,
       "left": null,
       "margin": null,
       "max_height": null,
       "max_width": null,
       "min_height": null,
       "min_width": null,
       "object_fit": null,
       "object_position": null,
       "order": null,
       "overflow": null,
       "overflow_x": null,
       "overflow_y": null,
       "padding": null,
       "right": null,
       "top": null,
       "visibility": null,
       "width": null
      }
     },
     "5c7f7aa2491a4a99a52e64b1840581ad": {
      "model_module": "@jupyter-widgets/controls",
      "model_module_version": "1.5.0",
      "model_name": "HTMLModel",
      "state": {
       "_dom_classes": [],
       "_model_module": "@jupyter-widgets/controls",
       "_model_module_version": "1.5.0",
       "_model_name": "HTMLModel",
       "_view_count": null,
       "_view_module": "@jupyter-widgets/controls",
       "_view_module_version": "1.5.0",
       "_view_name": "HTMLView",
       "description": "",
       "description_tooltip": null,
       "layout": "IPY_MODEL_b052b6f0e2ae46cb9df7cd12876f9f7f",
       "placeholder": "​",
       "style": "IPY_MODEL_f8f6fc8a3eb4492ebca93cc2246fcdf9",
       "value": "100%"
      }
     },
     "6347dd94e3014fcd873ed3efa260d73b": {
      "model_module": "@jupyter-widgets/controls",
      "model_module_version": "1.5.0",
      "model_name": "HBoxModel",
      "state": {
       "_dom_classes": [],
       "_model_module": "@jupyter-widgets/controls",
       "_model_module_version": "1.5.0",
       "_model_name": "HBoxModel",
       "_view_count": null,
       "_view_module": "@jupyter-widgets/controls",
       "_view_module_version": "1.5.0",
       "_view_name": "HBoxView",
       "box_style": "",
       "children": [
        "IPY_MODEL_5c7f7aa2491a4a99a52e64b1840581ad",
        "IPY_MODEL_1238393212c04860bae85ef01f83ee69",
        "IPY_MODEL_7a643e090e574b91af5038964c5948c6"
       ],
       "layout": "IPY_MODEL_44120b2c2c11442ba3c6fb0715c588d4"
      }
     },
     "64fd4189db3f4ccfa4b695afe3771848": {
      "model_module": "@jupyter-widgets/controls",
      "model_module_version": "1.5.0",
      "model_name": "HTMLModel",
      "state": {
       "_dom_classes": [],
       "_model_module": "@jupyter-widgets/controls",
       "_model_module_version": "1.5.0",
       "_model_name": "HTMLModel",
       "_view_count": null,
       "_view_module": "@jupyter-widgets/controls",
       "_view_module_version": "1.5.0",
       "_view_name": "HTMLView",
       "description": "",
       "description_tooltip": null,
       "layout": "IPY_MODEL_99763fe73b474315bdc85259624fc779",
       "placeholder": "​",
       "style": "IPY_MODEL_a7591d7c8d1a403b8e66ad0970644d9f",
       "value": " 866/866 [06:50&lt;00:00,  2.75it/s, training_loss=0.112]"
      }
     },
     "6adf9f6c7ebf4dfa8b59f448b8741646": {
      "model_module": "@jupyter-widgets/controls",
      "model_module_version": "1.5.0",
      "model_name": "FloatProgressModel",
      "state": {
       "_dom_classes": [],
       "_model_module": "@jupyter-widgets/controls",
       "_model_module_version": "1.5.0",
       "_model_name": "FloatProgressModel",
       "_view_count": null,
       "_view_module": "@jupyter-widgets/controls",
       "_view_module_version": "1.5.0",
       "_view_name": "ProgressView",
       "bar_style": "",
       "description": "",
       "description_tooltip": null,
       "layout": "IPY_MODEL_e8a656a422794e73b154efdc564a66cb",
       "max": 866.0,
       "min": 0.0,
       "orientation": "horizontal",
       "style": "IPY_MODEL_b4ff6721801b4c20af56321e754aede6",
       "value": 866.0
      }
     },
     "7a643e090e574b91af5038964c5948c6": {
      "model_module": "@jupyter-widgets/controls",
      "model_module_version": "1.5.0",
      "model_name": "HTMLModel",
      "state": {
       "_dom_classes": [],
       "_model_module": "@jupyter-widgets/controls",
       "_model_module_version": "1.5.0",
       "_model_name": "HTMLModel",
       "_view_count": null,
       "_view_module": "@jupyter-widgets/controls",
       "_view_module_version": "1.5.0",
       "_view_name": "HTMLView",
       "description": "",
       "description_tooltip": null,
       "layout": "IPY_MODEL_f729abf2886544d6b0826a7f8e0656f0",
       "placeholder": "​",
       "style": "IPY_MODEL_f9e0f14cd8ef4392a92191e7df8bbf34",
       "value": " 2/2 [14:25&lt;00:00, 432.80s/it]"
      }
     },
     "7cd09885b46e4b6b9a0759e40a130b0f": {
      "model_module": "@jupyter-widgets/controls",
      "model_module_version": "1.5.0",
      "model_name": "DescriptionStyleModel",
      "state": {
       "_model_module": "@jupyter-widgets/controls",
       "_model_module_version": "1.5.0",
       "_model_name": "DescriptionStyleModel",
       "_view_count": null,
       "_view_module": "@jupyter-widgets/base",
       "_view_module_version": "1.2.0",
       "_view_name": "StyleView",
       "description_width": ""
      }
     },
     "88cb680d7f6341fe8cd3136961b1382a": {
      "model_module": "@jupyter-widgets/base",
      "model_module_version": "1.2.0",
      "model_name": "LayoutModel",
      "state": {
       "_model_module": "@jupyter-widgets/base",
       "_model_module_version": "1.2.0",
       "_model_name": "LayoutModel",
       "_view_count": null,
       "_view_module": "@jupyter-widgets/base",
       "_view_module_version": "1.2.0",
       "_view_name": "LayoutView",
       "align_content": null,
       "align_items": null,
       "align_self": null,
       "border": null,
       "bottom": null,
       "display": null,
       "flex": null,
       "flex_flow": null,
       "grid_area": null,
       "grid_auto_columns": null,
       "grid_auto_flow": null,
       "grid_auto_rows": null,
       "grid_column": null,
       "grid_gap": null,
       "grid_row": null,
       "grid_template_areas": null,
       "grid_template_columns": null,
       "grid_template_rows": null,
       "height": null,
       "justify_content": null,
       "justify_items": null,
       "left": null,
       "margin": null,
       "max_height": null,
       "max_width": null,
       "min_height": null,
       "min_width": null,
       "object_fit": null,
       "object_position": null,
       "order": null,
       "overflow": null,
       "overflow_x": null,
       "overflow_y": null,
       "padding": null,
       "right": null,
       "top": null,
       "visibility": null,
       "width": null
      }
     },
     "8ac65299062347d68baf0fe7b9890f9f": {
      "model_module": "@jupyter-widgets/base",
      "model_module_version": "1.2.0",
      "model_name": "LayoutModel",
      "state": {
       "_model_module": "@jupyter-widgets/base",
       "_model_module_version": "1.2.0",
       "_model_name": "LayoutModel",
       "_view_count": null,
       "_view_module": "@jupyter-widgets/base",
       "_view_module_version": "1.2.0",
       "_view_name": "LayoutView",
       "align_content": null,
       "align_items": null,
       "align_self": null,
       "border": null,
       "bottom": null,
       "display": null,
       "flex": null,
       "flex_flow": null,
       "grid_area": null,
       "grid_auto_columns": null,
       "grid_auto_flow": null,
       "grid_auto_rows": null,
       "grid_column": null,
       "grid_gap": null,
       "grid_row": null,
       "grid_template_areas": null,
       "grid_template_columns": null,
       "grid_template_rows": null,
       "height": null,
       "justify_content": null,
       "justify_items": null,
       "left": null,
       "margin": null,
       "max_height": null,
       "max_width": null,
       "min_height": null,
       "min_width": null,
       "object_fit": null,
       "object_position": null,
       "order": null,
       "overflow": null,
       "overflow_x": null,
       "overflow_y": null,
       "padding": null,
       "right": null,
       "top": null,
       "visibility": null,
       "width": null
      }
     },
     "99763fe73b474315bdc85259624fc779": {
      "model_module": "@jupyter-widgets/base",
      "model_module_version": "1.2.0",
      "model_name": "LayoutModel",
      "state": {
       "_model_module": "@jupyter-widgets/base",
       "_model_module_version": "1.2.0",
       "_model_name": "LayoutModel",
       "_view_count": null,
       "_view_module": "@jupyter-widgets/base",
       "_view_module_version": "1.2.0",
       "_view_name": "LayoutView",
       "align_content": null,
       "align_items": null,
       "align_self": null,
       "border": null,
       "bottom": null,
       "display": null,
       "flex": null,
       "flex_flow": null,
       "grid_area": null,
       "grid_auto_columns": null,
       "grid_auto_flow": null,
       "grid_auto_rows": null,
       "grid_column": null,
       "grid_gap": null,
       "grid_row": null,
       "grid_template_areas": null,
       "grid_template_columns": null,
       "grid_template_rows": null,
       "height": null,
       "justify_content": null,
       "justify_items": null,
       "left": null,
       "margin": null,
       "max_height": null,
       "max_width": null,
       "min_height": null,
       "min_width": null,
       "object_fit": null,
       "object_position": null,
       "order": null,
       "overflow": null,
       "overflow_x": null,
       "overflow_y": null,
       "padding": null,
       "right": null,
       "top": null,
       "visibility": null,
       "width": null
      }
     },
     "9becf2b778424c67a0315cc1acc3f21f": {
      "model_module": "@jupyter-widgets/controls",
      "model_module_version": "1.5.0",
      "model_name": "HTMLModel",
      "state": {
       "_dom_classes": [],
       "_model_module": "@jupyter-widgets/controls",
       "_model_module_version": "1.5.0",
       "_model_name": "HTMLModel",
       "_view_count": null,
       "_view_module": "@jupyter-widgets/controls",
       "_view_module_version": "1.5.0",
       "_view_name": "HTMLView",
       "description": "",
       "description_tooltip": null,
       "layout": "IPY_MODEL_8ac65299062347d68baf0fe7b9890f9f",
       "placeholder": "​",
       "style": "IPY_MODEL_22696b0ffa084ffb9d534ca5b472c986",
       "value": "Epoch 2: 100%"
      }
     },
     "a673cad2691440a4bb6d01188c78cb04": {
      "model_module": "@jupyter-widgets/controls",
      "model_module_version": "1.5.0",
      "model_name": "ProgressStyleModel",
      "state": {
       "_model_module": "@jupyter-widgets/controls",
       "_model_module_version": "1.5.0",
       "_model_name": "ProgressStyleModel",
       "_view_count": null,
       "_view_module": "@jupyter-widgets/base",
       "_view_module_version": "1.2.0",
       "_view_name": "StyleView",
       "bar_color": null,
       "description_width": ""
      }
     },
     "a7591d7c8d1a403b8e66ad0970644d9f": {
      "model_module": "@jupyter-widgets/controls",
      "model_module_version": "1.5.0",
      "model_name": "DescriptionStyleModel",
      "state": {
       "_model_module": "@jupyter-widgets/controls",
       "_model_module_version": "1.5.0",
       "_model_name": "DescriptionStyleModel",
       "_view_count": null,
       "_view_module": "@jupyter-widgets/base",
       "_view_module_version": "1.2.0",
       "_view_name": "StyleView",
       "description_width": ""
      }
     },
     "a8532be190b44a2c85ea21b4d9a15e79": {
      "model_module": "@jupyter-widgets/base",
      "model_module_version": "1.2.0",
      "model_name": "LayoutModel",
      "state": {
       "_model_module": "@jupyter-widgets/base",
       "_model_module_version": "1.2.0",
       "_model_name": "LayoutModel",
       "_view_count": null,
       "_view_module": "@jupyter-widgets/base",
       "_view_module_version": "1.2.0",
       "_view_name": "LayoutView",
       "align_content": null,
       "align_items": null,
       "align_self": null,
       "border": null,
       "bottom": null,
       "display": null,
       "flex": null,
       "flex_flow": null,
       "grid_area": null,
       "grid_auto_columns": null,
       "grid_auto_flow": null,
       "grid_auto_rows": null,
       "grid_column": null,
       "grid_gap": null,
       "grid_row": null,
       "grid_template_areas": null,
       "grid_template_columns": null,
       "grid_template_rows": null,
       "height": null,
       "justify_content": null,
       "justify_items": null,
       "left": null,
       "margin": null,
       "max_height": null,
       "max_width": null,
       "min_height": null,
       "min_width": null,
       "object_fit": null,
       "object_position": null,
       "order": null,
       "overflow": null,
       "overflow_x": null,
       "overflow_y": null,
       "padding": null,
       "right": null,
       "top": null,
       "visibility": null,
       "width": null
      }
     },
     "b052b6f0e2ae46cb9df7cd12876f9f7f": {
      "model_module": "@jupyter-widgets/base",
      "model_module_version": "1.2.0",
      "model_name": "LayoutModel",
      "state": {
       "_model_module": "@jupyter-widgets/base",
       "_model_module_version": "1.2.0",
       "_model_name": "LayoutModel",
       "_view_count": null,
       "_view_module": "@jupyter-widgets/base",
       "_view_module_version": "1.2.0",
       "_view_name": "LayoutView",
       "align_content": null,
       "align_items": null,
       "align_self": null,
       "border": null,
       "bottom": null,
       "display": null,
       "flex": null,
       "flex_flow": null,
       "grid_area": null,
       "grid_auto_columns": null,
       "grid_auto_flow": null,
       "grid_auto_rows": null,
       "grid_column": null,
       "grid_gap": null,
       "grid_row": null,
       "grid_template_areas": null,
       "grid_template_columns": null,
       "grid_template_rows": null,
       "height": null,
       "justify_content": null,
       "justify_items": null,
       "left": null,
       "margin": null,
       "max_height": null,
       "max_width": null,
       "min_height": null,
       "min_width": null,
       "object_fit": null,
       "object_position": null,
       "order": null,
       "overflow": null,
       "overflow_x": null,
       "overflow_y": null,
       "padding": null,
       "right": null,
       "top": null,
       "visibility": null,
       "width": null
      }
     },
     "b4ff6721801b4c20af56321e754aede6": {
      "model_module": "@jupyter-widgets/controls",
      "model_module_version": "1.5.0",
      "model_name": "ProgressStyleModel",
      "state": {
       "_model_module": "@jupyter-widgets/controls",
       "_model_module_version": "1.5.0",
       "_model_name": "ProgressStyleModel",
       "_view_count": null,
       "_view_module": "@jupyter-widgets/base",
       "_view_module_version": "1.2.0",
       "_view_name": "StyleView",
       "bar_color": null,
       "description_width": ""
      }
     },
     "c015ed13d9434f8994cbe5f3ac2f01bd": {
      "model_module": "@jupyter-widgets/controls",
      "model_module_version": "1.5.0",
      "model_name": "HTMLModel",
      "state": {
       "_dom_classes": [],
       "_model_module": "@jupyter-widgets/controls",
       "_model_module_version": "1.5.0",
       "_model_name": "HTMLModel",
       "_view_count": null,
       "_view_module": "@jupyter-widgets/controls",
       "_view_module_version": "1.5.0",
       "_view_name": "HTMLView",
       "description": "",
       "description_tooltip": null,
       "layout": "IPY_MODEL_a8532be190b44a2c85ea21b4d9a15e79",
       "placeholder": "​",
       "style": "IPY_MODEL_f0bde243a719416caf9d26c1005aac5c",
       "value": "Epoch 1: 100%"
      }
     },
     "c09fe6d547c841df983d3853c1759322": {
      "model_module": "@jupyter-widgets/controls",
      "model_module_version": "1.5.0",
      "model_name": "HBoxModel",
      "state": {
       "_dom_classes": [],
       "_model_module": "@jupyter-widgets/controls",
       "_model_module_version": "1.5.0",
       "_model_name": "HBoxModel",
       "_view_count": null,
       "_view_module": "@jupyter-widgets/controls",
       "_view_module_version": "1.5.0",
       "_view_name": "HBoxView",
       "box_style": "",
       "children": [
        "IPY_MODEL_9becf2b778424c67a0315cc1acc3f21f",
        "IPY_MODEL_6adf9f6c7ebf4dfa8b59f448b8741646",
        "IPY_MODEL_4fa960416c31497a90ec10506ee50030"
       ],
       "layout": "IPY_MODEL_ef1d574dbb3c46c1b5e6ed79d627bc5a"
      }
     },
     "c79465b49d46484ebb0045c4ff7820e1": {
      "model_module": "@jupyter-widgets/controls",
      "model_module_version": "1.5.0",
      "model_name": "HBoxModel",
      "state": {
       "_dom_classes": [],
       "_model_module": "@jupyter-widgets/controls",
       "_model_module_version": "1.5.0",
       "_model_name": "HBoxModel",
       "_view_count": null,
       "_view_module": "@jupyter-widgets/controls",
       "_view_module_version": "1.5.0",
       "_view_name": "HBoxView",
       "box_style": "",
       "children": [
        "IPY_MODEL_c015ed13d9434f8994cbe5f3ac2f01bd",
        "IPY_MODEL_feecb0da637b401e86cec45c3683c875",
        "IPY_MODEL_64fd4189db3f4ccfa4b695afe3771848"
       ],
       "layout": "IPY_MODEL_1eaa9f196af34ef4bf1df9e3619ebc0c"
      }
     },
     "cf0dde508b884400b1aa0d94e20415ac": {
      "model_module": "@jupyter-widgets/base",
      "model_module_version": "1.2.0",
      "model_name": "LayoutModel",
      "state": {
       "_model_module": "@jupyter-widgets/base",
       "_model_module_version": "1.2.0",
       "_model_name": "LayoutModel",
       "_view_count": null,
       "_view_module": "@jupyter-widgets/base",
       "_view_module_version": "1.2.0",
       "_view_name": "LayoutView",
       "align_content": null,
       "align_items": null,
       "align_self": null,
       "border": null,
       "bottom": null,
       "display": null,
       "flex": null,
       "flex_flow": null,
       "grid_area": null,
       "grid_auto_columns": null,
       "grid_auto_flow": null,
       "grid_auto_rows": null,
       "grid_column": null,
       "grid_gap": null,
       "grid_row": null,
       "grid_template_areas": null,
       "grid_template_columns": null,
       "grid_template_rows": null,
       "height": null,
       "justify_content": null,
       "justify_items": null,
       "left": null,
       "margin": null,
       "max_height": null,
       "max_width": null,
       "min_height": null,
       "min_width": null,
       "object_fit": null,
       "object_position": null,
       "order": null,
       "overflow": null,
       "overflow_x": null,
       "overflow_y": null,
       "padding": null,
       "right": null,
       "top": null,
       "visibility": null,
       "width": null
      }
     },
     "e52adadda158486f8e92d90a8a8b5919": {
      "model_module": "@jupyter-widgets/controls",
      "model_module_version": "1.5.0",
      "model_name": "ProgressStyleModel",
      "state": {
       "_model_module": "@jupyter-widgets/controls",
       "_model_module_version": "1.5.0",
       "_model_name": "ProgressStyleModel",
       "_view_count": null,
       "_view_module": "@jupyter-widgets/base",
       "_view_module_version": "1.2.0",
       "_view_name": "StyleView",
       "bar_color": null,
       "description_width": ""
      }
     },
     "e8a656a422794e73b154efdc564a66cb": {
      "model_module": "@jupyter-widgets/base",
      "model_module_version": "1.2.0",
      "model_name": "LayoutModel",
      "state": {
       "_model_module": "@jupyter-widgets/base",
       "_model_module_version": "1.2.0",
       "_model_name": "LayoutModel",
       "_view_count": null,
       "_view_module": "@jupyter-widgets/base",
       "_view_module_version": "1.2.0",
       "_view_name": "LayoutView",
       "align_content": null,
       "align_items": null,
       "align_self": null,
       "border": null,
       "bottom": null,
       "display": null,
       "flex": null,
       "flex_flow": null,
       "grid_area": null,
       "grid_auto_columns": null,
       "grid_auto_flow": null,
       "grid_auto_rows": null,
       "grid_column": null,
       "grid_gap": null,
       "grid_row": null,
       "grid_template_areas": null,
       "grid_template_columns": null,
       "grid_template_rows": null,
       "height": null,
       "justify_content": null,
       "justify_items": null,
       "left": null,
       "margin": null,
       "max_height": null,
       "max_width": null,
       "min_height": null,
       "min_width": null,
       "object_fit": null,
       "object_position": null,
       "order": null,
       "overflow": null,
       "overflow_x": null,
       "overflow_y": null,
       "padding": null,
       "right": null,
       "top": null,
       "visibility": null,
       "width": null
      }
     },
     "ef1d574dbb3c46c1b5e6ed79d627bc5a": {
      "model_module": "@jupyter-widgets/base",
      "model_module_version": "1.2.0",
      "model_name": "LayoutModel",
      "state": {
       "_model_module": "@jupyter-widgets/base",
       "_model_module_version": "1.2.0",
       "_model_name": "LayoutModel",
       "_view_count": null,
       "_view_module": "@jupyter-widgets/base",
       "_view_module_version": "1.2.0",
       "_view_name": "LayoutView",
       "align_content": null,
       "align_items": null,
       "align_self": null,
       "border": null,
       "bottom": null,
       "display": null,
       "flex": null,
       "flex_flow": null,
       "grid_area": null,
       "grid_auto_columns": null,
       "grid_auto_flow": null,
       "grid_auto_rows": null,
       "grid_column": null,
       "grid_gap": null,
       "grid_row": null,
       "grid_template_areas": null,
       "grid_template_columns": null,
       "grid_template_rows": null,
       "height": null,
       "justify_content": null,
       "justify_items": null,
       "left": null,
       "margin": null,
       "max_height": null,
       "max_width": null,
       "min_height": null,
       "min_width": null,
       "object_fit": null,
       "object_position": null,
       "order": null,
       "overflow": null,
       "overflow_x": null,
       "overflow_y": null,
       "padding": null,
       "right": null,
       "top": null,
       "visibility": "hidden",
       "width": null
      }
     },
     "f0bde243a719416caf9d26c1005aac5c": {
      "model_module": "@jupyter-widgets/controls",
      "model_module_version": "1.5.0",
      "model_name": "DescriptionStyleModel",
      "state": {
       "_model_module": "@jupyter-widgets/controls",
       "_model_module_version": "1.5.0",
       "_model_name": "DescriptionStyleModel",
       "_view_count": null,
       "_view_module": "@jupyter-widgets/base",
       "_view_module_version": "1.2.0",
       "_view_name": "StyleView",
       "description_width": ""
      }
     },
     "f729abf2886544d6b0826a7f8e0656f0": {
      "model_module": "@jupyter-widgets/base",
      "model_module_version": "1.2.0",
      "model_name": "LayoutModel",
      "state": {
       "_model_module": "@jupyter-widgets/base",
       "_model_module_version": "1.2.0",
       "_model_name": "LayoutModel",
       "_view_count": null,
       "_view_module": "@jupyter-widgets/base",
       "_view_module_version": "1.2.0",
       "_view_name": "LayoutView",
       "align_content": null,
       "align_items": null,
       "align_self": null,
       "border": null,
       "bottom": null,
       "display": null,
       "flex": null,
       "flex_flow": null,
       "grid_area": null,
       "grid_auto_columns": null,
       "grid_auto_flow": null,
       "grid_auto_rows": null,
       "grid_column": null,
       "grid_gap": null,
       "grid_row": null,
       "grid_template_areas": null,
       "grid_template_columns": null,
       "grid_template_rows": null,
       "height": null,
       "justify_content": null,
       "justify_items": null,
       "left": null,
       "margin": null,
       "max_height": null,
       "max_width": null,
       "min_height": null,
       "min_width": null,
       "object_fit": null,
       "object_position": null,
       "order": null,
       "overflow": null,
       "overflow_x": null,
       "overflow_y": null,
       "padding": null,
       "right": null,
       "top": null,
       "visibility": null,
       "width": null
      }
     },
     "f8f6fc8a3eb4492ebca93cc2246fcdf9": {
      "model_module": "@jupyter-widgets/controls",
      "model_module_version": "1.5.0",
      "model_name": "DescriptionStyleModel",
      "state": {
       "_model_module": "@jupyter-widgets/controls",
       "_model_module_version": "1.5.0",
       "_model_name": "DescriptionStyleModel",
       "_view_count": null,
       "_view_module": "@jupyter-widgets/base",
       "_view_module_version": "1.2.0",
       "_view_name": "StyleView",
       "description_width": ""
      }
     },
     "f9e0f14cd8ef4392a92191e7df8bbf34": {
      "model_module": "@jupyter-widgets/controls",
      "model_module_version": "1.5.0",
      "model_name": "DescriptionStyleModel",
      "state": {
       "_model_module": "@jupyter-widgets/controls",
       "_model_module_version": "1.5.0",
       "_model_name": "DescriptionStyleModel",
       "_view_count": null,
       "_view_module": "@jupyter-widgets/base",
       "_view_module_version": "1.2.0",
       "_view_name": "StyleView",
       "description_width": ""
      }
     },
     "feecb0da637b401e86cec45c3683c875": {
      "model_module": "@jupyter-widgets/controls",
      "model_module_version": "1.5.0",
      "model_name": "FloatProgressModel",
      "state": {
       "_dom_classes": [],
       "_model_module": "@jupyter-widgets/controls",
       "_model_module_version": "1.5.0",
       "_model_name": "FloatProgressModel",
       "_view_count": null,
       "_view_module": "@jupyter-widgets/controls",
       "_view_module_version": "1.5.0",
       "_view_name": "ProgressView",
       "bar_style": "",
       "description": "",
       "description_tooltip": null,
       "layout": "IPY_MODEL_cf0dde508b884400b1aa0d94e20415ac",
       "max": 866.0,
       "min": 0.0,
       "orientation": "horizontal",
       "style": "IPY_MODEL_a673cad2691440a4bb6d01188c78cb04",
       "value": 866.0
      }
     }
    },
    "version_major": 2,
    "version_minor": 0
   }
  }
 },
 "nbformat": 4,
 "nbformat_minor": 4
}
